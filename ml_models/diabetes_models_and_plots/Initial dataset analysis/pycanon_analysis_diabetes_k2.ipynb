{
 "cells": [
  {
   "cell_type": "markdown",
   "id": "71ef63be",
   "metadata": {},
   "source": [
    "### ANALYSIS OF BEST T PARAMETER GIVEN A K-ANONYMIZED DATASET"
   ]
  },
  {
   "cell_type": "markdown",
   "id": "82523607",
   "metadata": {},
   "source": [
    "In order to stablish an enough restrictive value for t when applying t-closeness we make use of the pycanon library to get the already existing value of t given a k-anonymized dataset:"
   ]
  },
  {
   "cell_type": "code",
   "execution_count": 1,
   "id": "b07d1bff",
   "metadata": {},
   "outputs": [],
   "source": [
    "import pandas as pd\n",
    "import pycanon\n",
    "from pycanon import report, anonymity"
   ]
  },
  {
   "cell_type": "markdown",
   "id": "ffa41a6d",
   "metadata": {},
   "source": [
    "#### K=2"
   ]
  },
  {
   "cell_type": "code",
   "execution_count": 2,
   "id": "6091694c",
   "metadata": {},
   "outputs": [],
   "source": [
    "file_name = \"/home/carmen/Escritorio/TFM/ml_anonymization/datasets/diabetes_dataset/csv/diabetes_k_2-anonymized.csv\"\n",
    "df = pd.read_csv(file_name, sep=\",\")\n",
    "\n",
    "q_i=[\"Age\",\"Gender\",\"Polyuria\",\"Polydipsia\",\"sudden weight loss\",\"weakness\",\"Polyphagia\",\"Genital thrush\",\"visual blurring\",\"Itching\",\"Irritability\",\"delayed healing\",\"partial paresis\",\"muscle stiffness\",\"Alopecia\",\"Obesity\"]\n",
    "a_s = [\"class\"]\n",
    "\n",
    "def delete_rows(file_name, quasi_ident, fillna=True):\n",
    "    \"\"\"Delete the rows of the given file in which all QIs are set to *.\"\"\"\n",
    "    df = pd.read_csv(file_name, sep=\",\")\n",
    "    df_qi = df[quasi_ident]\n",
    "    row_mask = (df_qi == \"*\").all(axis=1)\n",
    "    df_new = df[~row_mask].reset_index(drop=True)\n",
    "    print(df_new)\n",
    "    return df_new\n"
   ]
  },
  {
   "cell_type": "code",
   "execution_count": 3,
   "id": "5a477375",
   "metadata": {},
   "outputs": [
    {
     "name": "stdout",
     "output_type": "stream",
     "text": [
      "          Age  Gender Polyuria Polydipsia sudden weight loss weakness  \\\n",
      "0    [40, 80[    Male       No         No                 No      Yes   \n",
      "1     [0, 40[    Male       No         No                Yes       No   \n",
      "2    [40, 80[    Male       No         No                Yes       No   \n",
      "3    [40, 80[    Male      Yes        Yes                Yes      Yes   \n",
      "4     [0, 40[    Male       No         No                 No       No   \n",
      "..        ...     ...      ...        ...                ...      ...   \n",
      "393  [40, 80[  Female      Yes        Yes                 No      Yes   \n",
      "394   [0, 40[    Male       No         No                 No       No   \n",
      "395  [40, 80[  Female      Yes        Yes                Yes       No   \n",
      "396  [40, 80[    Male       No        Yes                Yes      Yes   \n",
      "397   [0, 40[  Female      Yes         No                Yes      Yes   \n",
      "\n",
      "    Polyphagia Genital thrush visual blurring Itching Irritability  \\\n",
      "0           No            Yes              No     Yes           No   \n",
      "1           No             No              No      No           No   \n",
      "2           No             No              No      No           No   \n",
      "3          Yes             No             Yes     Yes           No   \n",
      "4           No             No              No      No           No   \n",
      "..         ...            ...             ...     ...          ...   \n",
      "393        Yes             No             Yes     Yes           No   \n",
      "394         No             No              No      No           No   \n",
      "395        Yes             No              No     Yes           No   \n",
      "396         No             No             Yes     Yes           No   \n",
      "397        Yes             No              No      No           No   \n",
      "\n",
      "    delayed healing partial paresis muscle stiffness Alopecia Obesity  \\\n",
      "0               Yes              No               No      Yes      No   \n",
      "1                No              No               No       No      No   \n",
      "2                No              No               No       No     Yes   \n",
      "3               Yes             Yes              Yes       No      No   \n",
      "4                No              No               No       No      No   \n",
      "..              ...             ...              ...      ...     ...   \n",
      "393             Yes             Yes               No       No      No   \n",
      "394              No              No               No       No      No   \n",
      "395             Yes             Yes               No       No      No   \n",
      "396              No             Yes              Yes       No      No   \n",
      "397             Yes              No               No       No      No   \n",
      "\n",
      "        class  \n",
      "0    Negative  \n",
      "1    Negative  \n",
      "2    Negative  \n",
      "3    Positive  \n",
      "4    Negative  \n",
      "..        ...  \n",
      "393  Positive  \n",
      "394  Negative  \n",
      "395  Positive  \n",
      "396  Negative  \n",
      "397  Positive  \n",
      "\n",
      "[398 rows x 17 columns]\n",
      "0.5603015075376885\n"
     ]
    }
   ],
   "source": [
    "new_dataset = delete_rows(file_name,q_i)\n",
    "t = pycanon.anonymity.t_closeness(new_dataset, q_i, a_s)\n",
    "print(t)"
   ]
  },
  {
   "cell_type": "markdown",
   "id": "49f8e3f7",
   "metadata": {},
   "source": [
    "The \"already exisiting\" value for t with the 2-anonymity dataset is **0.56**. Therefore, when choosing the t value for anonymizating the dataset, it has to be bellow this value to be more restrictive and applying more anonymization. "
   ]
  },
  {
   "cell_type": "markdown",
   "id": "142479d6",
   "metadata": {},
   "source": [
    "We will stablish the t value of t=0.5 when generating the anonymized dataset of k=2."
   ]
  }
 ],
 "metadata": {
  "kernelspec": {
   "display_name": "Python 3 (ipykernel)",
   "language": "python",
   "name": "python3"
  },
  "language_info": {
   "codemirror_mode": {
    "name": "ipython",
    "version": 3
   },
   "file_extension": ".py",
   "mimetype": "text/x-python",
   "name": "python",
   "nbconvert_exporter": "python",
   "pygments_lexer": "ipython3",
   "version": "3.10.10"
  }
 },
 "nbformat": 4,
 "nbformat_minor": 5
}
