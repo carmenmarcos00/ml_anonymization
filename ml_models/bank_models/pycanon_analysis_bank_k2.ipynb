{
 "cells": [
  {
   "cell_type": "markdown",
   "id": "f01ae460",
   "metadata": {},
   "source": [
    "### ANALYSIS OF BEST T PARAMETER GIVEN A K-ANONYMIZED DATASET"
   ]
  },
  {
   "cell_type": "markdown",
   "id": "2caca01d",
   "metadata": {},
   "source": [
    "In order to stablish an enough restrictive value for t when applying t-closeness we make use of the pycanon library to get the already existing value of t given a k-anonymized dataset:"
   ]
  },
  {
   "cell_type": "code",
   "execution_count": 1,
   "id": "18bfd123",
   "metadata": {},
   "outputs": [],
   "source": [
    "import pandas as pd\n",
    "import pycanon\n",
    "from pycanon import report, anonymity"
   ]
  },
  {
   "cell_type": "markdown",
   "id": "5ab8275a",
   "metadata": {},
   "source": [
    "### K=2"
   ]
  },
  {
   "cell_type": "code",
   "execution_count": 2,
   "id": "92ba4df2",
   "metadata": {},
   "outputs": [],
   "source": [
    "file_name = \"/home/carmen/Escritorio/TFM/ml_anonymization/datasets/bank_dataset/csv/bank_k_2-anonymized.csv\"\n",
    "df = pd.read_csv(file_name, sep=\";\")\n",
    "\n",
    "q_i=[\"age\",\"job\",\"marital\",\"education\",\"default\",\"housing\",\"loan\",\"contact\",\"month\",\"day_of_week\",\"emp.var.rate\",\"cons.price.idx\",\"cons.conf.idx\",\"euribor3m\",\"nr.employed\"]\n",
    "a_s = [\"y\"]\n",
    "\n",
    "def delete_rows(file_name, quasi_ident, fillna=True):\n",
    "    \"\"\"Delete the rows of the given file in which all QIs are set to *.\"\"\"\n",
    "    df = pd.read_csv(file_name, sep = \";\")\n",
    "    df_qi = df[quasi_ident]\n",
    "    tmp = df_qi[df_qi == [\"*\"] * len(quasi_ident)]\n",
    "    tmp.dropna(inplace=True)\n",
    "    df_new=df.drop(tmp.index.values, axis = 0).reset_index()\n",
    "    print(df_new)\n",
    "    return df_new"
   ]
  },
  {
   "cell_type": "code",
   "execution_count": 3,
   "id": "85800df7",
   "metadata": {},
   "outputs": [
    {
     "name": "stdout",
     "output_type": "stream",
     "text": [
      "       index       age         job      marital            education  default  \\\n",
      "0          0  [20, 40[    Employed  Not married          HIgh School       no   \n",
      "1          2  [40, 60[    Employed      Married  Professional Course       no   \n",
      "2          4  [20, 40[    Employed      Married                Basic       no   \n",
      "3          8  [40, 60[     Unknown      Married              Unknown       no   \n",
      "4         10  [40, 60[  unemployed      Married                Basic  unknown   \n",
      "...      ...       ...         ...          ...                  ...      ...   \n",
      "34917  41183  [20, 40[    Employed  Not married    University Degree       no   \n",
      "34918  41184  [60, 80[    Employed      Married              Unknown       no   \n",
      "34919  41185  [20, 40[    Employed      Married          HIgh School       no   \n",
      "34920  41186  [40, 60[    Employed      Married                Basic       no   \n",
      "34921  41187  [40, 60[    Employed      Married                Basic  unknown   \n",
      "\n",
      "      housing loan    contact month day_of_week emp.var.rate cons.price.idx  \\\n",
      "0         yes   no   cellular   jul         thu          1.4         93.918   \n",
      "1         yes  yes   cellular   nov         fri         -0.1           93.2   \n",
      "2          no   no  telephone   may         thu          1.1         93.994   \n",
      "3         yes   no   cellular   jul         thu          1.4         93.918   \n",
      "4          no   no   cellular   jul         mon          1.4         93.918   \n",
      "...       ...  ...        ...   ...         ...          ...            ...   \n",
      "34917     yes   no   cellular   aug         fri          1.4         93.444   \n",
      "34918     yes   no   cellular   may         wed         -1.8         93.876   \n",
      "34919     yes   no  telephone   may         thu          1.1         93.994   \n",
      "34920      no  yes   cellular   apr         mon         -1.8         93.075   \n",
      "34921      no   no  telephone   may         thu          1.1         93.994   \n",
      "\n",
      "      cons.conf.idx euribor3m nr.employed    y  \n",
      "0             -42.7         5         NaN   no  \n",
      "1               -42         4         NaN   no  \n",
      "2             -36.4         5        5191   no  \n",
      "3             -42.7         5         NaN   no  \n",
      "4             -42.7         5         NaN   no  \n",
      "...             ...       ...         ...  ...  \n",
      "34917         -36.1         5         NaN   no  \n",
      "34918           -40       0.5         NaN  yes  \n",
      "34919         -36.4         5        5191   no  \n",
      "34920         -47.1       1.5         NaN   no  \n",
      "34921         -36.4         5        5191   no  \n",
      "\n",
      "[34922 rows x 17 columns]\n",
      "index              int64\n",
      "age               object\n",
      "job               object\n",
      "marital           object\n",
      "education         object\n",
      "default           object\n",
      "housing           object\n",
      "loan              object\n",
      "contact           object\n",
      "month             object\n",
      "day_of_week       object\n",
      "emp.var.rate      object\n",
      "cons.price.idx    object\n",
      "cons.conf.idx     object\n",
      "euribor3m         object\n",
      "nr.employed       object\n",
      "y                 object\n",
      "dtype: object\n"
     ]
    },
    {
     "ename": "TypeError",
     "evalue": "'<' not supported between instances of 'str' and 'float'",
     "output_type": "error",
     "traceback": [
      "\u001b[0;31m---------------------------------------------------------------------------\u001b[0m",
      "\u001b[0;31mTypeError\u001b[0m                                 Traceback (most recent call last)",
      "Cell \u001b[0;32mIn[3], line 5\u001b[0m\n\u001b[1;32m      1\u001b[0m new_dataset \u001b[38;5;241m=\u001b[39m delete_rows(file_name,q_i)\n\u001b[1;32m      3\u001b[0m \u001b[38;5;28mprint\u001b[39m(new_dataset\u001b[38;5;241m.\u001b[39mdtypes)\n\u001b[0;32m----> 5\u001b[0m t \u001b[38;5;241m=\u001b[39m \u001b[43mpycanon\u001b[49m\u001b[38;5;241;43m.\u001b[39;49m\u001b[43manonymity\u001b[49m\u001b[38;5;241;43m.\u001b[39;49m\u001b[43mt_closeness\u001b[49m\u001b[43m(\u001b[49m\u001b[43mnew_dataset\u001b[49m\u001b[43m,\u001b[49m\u001b[43m \u001b[49m\u001b[43mq_i\u001b[49m\u001b[43m,\u001b[49m\u001b[43m \u001b[49m\u001b[43ma_s\u001b[49m\u001b[43m)\u001b[49m\n\u001b[1;32m      6\u001b[0m \u001b[38;5;28mprint\u001b[39m(t)\n",
      "File \u001b[0;32m~/mambaforge/envs/TFM/lib/python3.10/site-packages/pycanon/anonymity/_t_closeness.py:65\u001b[0m, in \u001b[0;36mt_closeness\u001b[0;34m(data, quasi_ident, sens_att, gen)\u001b[0m\n\u001b[1;32m     60\u001b[0m     t_sens_att\u001b[38;5;241m.\u001b[39mappend(\n\u001b[1;32m     61\u001b[0m         aux_anonymity\u001b[38;5;241m.\u001b[39maux_t_closeness_num(data, quasi_ident, sens_att_value)\n\u001b[1;32m     62\u001b[0m     )\n\u001b[1;32m     63\u001b[0m \u001b[38;5;28;01melif\u001b[39;00m pd\u001b[38;5;241m.\u001b[39mapi\u001b[38;5;241m.\u001b[39mtypes\u001b[38;5;241m.\u001b[39mis_string_dtype(data[sens_att_value]):\n\u001b[1;32m     64\u001b[0m     t_sens_att\u001b[38;5;241m.\u001b[39mappend(\n\u001b[0;32m---> 65\u001b[0m         \u001b[43maux_anonymity\u001b[49m\u001b[38;5;241;43m.\u001b[39;49m\u001b[43maux_t_closeness_str\u001b[49m\u001b[43m(\u001b[49m\u001b[43mdata\u001b[49m\u001b[43m,\u001b[49m\u001b[43m \u001b[49m\u001b[43mquasi_ident\u001b[49m\u001b[43m,\u001b[49m\u001b[43m \u001b[49m\u001b[43msens_att_value\u001b[49m\u001b[43m)\u001b[49m\n\u001b[1;32m     66\u001b[0m     )\n\u001b[1;32m     67\u001b[0m \u001b[38;5;28;01melse\u001b[39;00m:\n\u001b[1;32m     68\u001b[0m     \u001b[38;5;28;01mraise\u001b[39;00m \u001b[38;5;167;01mValueError\u001b[39;00m(\u001b[38;5;124m\"\u001b[39m\u001b[38;5;124mError, invalid sens_att value type\u001b[39m\u001b[38;5;124m\"\u001b[39m)\n",
      "File \u001b[0;32m~/mambaforge/envs/TFM/lib/python3.10/site-packages/pycanon/anonymity/utils/aux_anonymity.py:185\u001b[0m, in \u001b[0;36maux_t_closeness_str\u001b[0;34m(data, quasi_ident, sens_att_value)\u001b[0m\n\u001b[1;32m    164\u001b[0m \u001b[38;5;28;01mdef\u001b[39;00m \u001b[38;5;21maux_t_closeness_str\u001b[39m(\n\u001b[1;32m    165\u001b[0m     data: pd\u001b[38;5;241m.\u001b[39mDataFrame, quasi_ident: Union[\u001b[38;5;28mlist\u001b[39m, np\u001b[38;5;241m.\u001b[39mndarray], sens_att_value: \u001b[38;5;28mlist\u001b[39m\n\u001b[1;32m    166\u001b[0m ) \u001b[38;5;241m-\u001b[39m\u001b[38;5;241m>\u001b[39m \u001b[38;5;28mfloat\u001b[39m:\n\u001b[1;32m    167\u001b[0m \u001b[38;5;250m    \u001b[39m\u001b[38;5;124;03m\"\"\"Obtain t for for t-closeness.\u001b[39;00m\n\u001b[1;32m    168\u001b[0m \n\u001b[1;32m    169\u001b[0m \u001b[38;5;124;03m    Function used for categorical attributes: the metric \"Equal Distance\" is\u001b[39;00m\n\u001b[0;32m   (...)\u001b[0m\n\u001b[1;32m    183\u001b[0m \u001b[38;5;124;03m    :rtype: float.\u001b[39;00m\n\u001b[1;32m    184\u001b[0m \u001b[38;5;124;03m    \"\"\"\u001b[39;00m\n\u001b[0;32m--> 185\u001b[0m     equiv_class \u001b[38;5;241m=\u001b[39m \u001b[43mget_equiv_class\u001b[49m\u001b[43m(\u001b[49m\u001b[43mdata\u001b[49m\u001b[43m,\u001b[49m\u001b[43m \u001b[49m\u001b[43mquasi_ident\u001b[49m\u001b[43m)\u001b[49m\n\u001b[1;32m    186\u001b[0m     values \u001b[38;5;241m=\u001b[39m np\u001b[38;5;241m.\u001b[39munique(data[sens_att_value]\u001b[38;5;241m.\u001b[39mvalues)\n\u001b[1;32m    187\u001b[0m     m \u001b[38;5;241m=\u001b[39m \u001b[38;5;28mlen\u001b[39m(values)\n",
      "File \u001b[0;32m~/mambaforge/envs/TFM/lib/python3.10/site-packages/pycanon/anonymity/utils/aux_anonymity.py:47\u001b[0m, in \u001b[0;36mget_equiv_class\u001b[0;34m(data, quasi_ident)\u001b[0m\n\u001b[1;32m     45\u001b[0m index \u001b[38;5;241m=\u001b[39m []\n\u001b[1;32m     46\u001b[0m \u001b[38;5;28;01mfor\u001b[39;00m qi \u001b[38;5;129;01min\u001b[39;00m quasi_ident:\n\u001b[0;32m---> 47\u001b[0m     values \u001b[38;5;241m=\u001b[39m \u001b[43mnp\u001b[49m\u001b[38;5;241;43m.\u001b[39;49m\u001b[43munique\u001b[49m\u001b[43m(\u001b[49m\u001b[43mdata\u001b[49m\u001b[43m[\u001b[49m\u001b[43mqi\u001b[49m\u001b[43m]\u001b[49m\u001b[38;5;241;43m.\u001b[39;49m\u001b[43mvalues\u001b[49m\u001b[43m)\u001b[49m\n\u001b[1;32m     48\u001b[0m     tmp \u001b[38;5;241m=\u001b[39m [np\u001b[38;5;241m.\u001b[39munique(data[data[qi] \u001b[38;5;241m==\u001b[39m value]\u001b[38;5;241m.\u001b[39mindex) \u001b[38;5;28;01mfor\u001b[39;00m value \u001b[38;5;129;01min\u001b[39;00m values]\n\u001b[1;32m     49\u001b[0m     index\u001b[38;5;241m.\u001b[39mappend(tmp)\n",
      "File \u001b[0;32m~/mambaforge/envs/TFM/lib/python3.10/site-packages/numpy/lib/arraysetops.py:274\u001b[0m, in \u001b[0;36munique\u001b[0;34m(ar, return_index, return_inverse, return_counts, axis, equal_nan)\u001b[0m\n\u001b[1;32m    272\u001b[0m ar \u001b[38;5;241m=\u001b[39m np\u001b[38;5;241m.\u001b[39masanyarray(ar)\n\u001b[1;32m    273\u001b[0m \u001b[38;5;28;01mif\u001b[39;00m axis \u001b[38;5;129;01mis\u001b[39;00m \u001b[38;5;28;01mNone\u001b[39;00m:\n\u001b[0;32m--> 274\u001b[0m     ret \u001b[38;5;241m=\u001b[39m \u001b[43m_unique1d\u001b[49m\u001b[43m(\u001b[49m\u001b[43mar\u001b[49m\u001b[43m,\u001b[49m\u001b[43m \u001b[49m\u001b[43mreturn_index\u001b[49m\u001b[43m,\u001b[49m\u001b[43m \u001b[49m\u001b[43mreturn_inverse\u001b[49m\u001b[43m,\u001b[49m\u001b[43m \u001b[49m\u001b[43mreturn_counts\u001b[49m\u001b[43m,\u001b[49m\u001b[43m \u001b[49m\n\u001b[1;32m    275\u001b[0m \u001b[43m                    \u001b[49m\u001b[43mequal_nan\u001b[49m\u001b[38;5;241;43m=\u001b[39;49m\u001b[43mequal_nan\u001b[49m\u001b[43m)\u001b[49m\n\u001b[1;32m    276\u001b[0m     \u001b[38;5;28;01mreturn\u001b[39;00m _unpack_tuple(ret)\n\u001b[1;32m    278\u001b[0m \u001b[38;5;66;03m# axis was specified and not None\u001b[39;00m\n",
      "File \u001b[0;32m~/mambaforge/envs/TFM/lib/python3.10/site-packages/numpy/lib/arraysetops.py:336\u001b[0m, in \u001b[0;36m_unique1d\u001b[0;34m(ar, return_index, return_inverse, return_counts, equal_nan)\u001b[0m\n\u001b[1;32m    334\u001b[0m     aux \u001b[38;5;241m=\u001b[39m ar[perm]\n\u001b[1;32m    335\u001b[0m \u001b[38;5;28;01melse\u001b[39;00m:\n\u001b[0;32m--> 336\u001b[0m     \u001b[43mar\u001b[49m\u001b[38;5;241;43m.\u001b[39;49m\u001b[43msort\u001b[49m\u001b[43m(\u001b[49m\u001b[43m)\u001b[49m\n\u001b[1;32m    337\u001b[0m     aux \u001b[38;5;241m=\u001b[39m ar\n\u001b[1;32m    338\u001b[0m mask \u001b[38;5;241m=\u001b[39m np\u001b[38;5;241m.\u001b[39mempty(aux\u001b[38;5;241m.\u001b[39mshape, dtype\u001b[38;5;241m=\u001b[39mnp\u001b[38;5;241m.\u001b[39mbool_)\n",
      "\u001b[0;31mTypeError\u001b[0m: '<' not supported between instances of 'str' and 'float'"
     ]
    }
   ],
   "source": [
    "new_dataset = delete_rows(file_name,q_i)\n",
    "\n",
    "t = pycanon.anonymity.t_closeness(new_dataset, q_i, a_s)\n",
    "print(t)"
   ]
  },
  {
   "cell_type": "markdown",
   "id": "8ae1a556",
   "metadata": {},
   "source": [
    "The \"already exisiting\" value for t with the 2-anonymity dataset is **0.56**. Therefore, when choosing the t value for anonymizating the dataset, it has to be bellow this value to be more restrictive and applying more anonymization. "
   ]
  },
  {
   "cell_type": "markdown",
   "id": "30344f4b",
   "metadata": {},
   "source": [
    "We will stablish the t value of t=0.5 when generating the anonymized dataset of k=2."
   ]
  }
 ],
 "metadata": {
  "kernelspec": {
   "display_name": "Python 3 (ipykernel)",
   "language": "python",
   "name": "python3"
  },
  "language_info": {
   "codemirror_mode": {
    "name": "ipython",
    "version": 3
   },
   "file_extension": ".py",
   "mimetype": "text/x-python",
   "name": "python",
   "nbconvert_exporter": "python",
   "pygments_lexer": "ipython3",
   "version": "3.10.10"
  }
 },
 "nbformat": 4,
 "nbformat_minor": 5
}
