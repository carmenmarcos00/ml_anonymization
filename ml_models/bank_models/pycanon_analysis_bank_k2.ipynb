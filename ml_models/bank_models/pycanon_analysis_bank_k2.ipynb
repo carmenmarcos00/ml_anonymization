{
 "cells": [
  {
   "cell_type": "markdown",
   "id": "f01ae460",
   "metadata": {},
   "source": [
    "### ANALYSIS OF BEST T PARAMETER GIVEN A K-ANONYMIZED DATASET"
   ]
  },
  {
   "cell_type": "markdown",
   "id": "2caca01d",
   "metadata": {},
   "source": [
    "In order to stablish an enough restrictive value for t when applying t-closeness we make use of the pycanon library to get the already existing value of t given a k-anonymized dataset:"
   ]
  },
  {
   "cell_type": "code",
   "execution_count": 1,
   "id": "18bfd123",
   "metadata": {},
   "outputs": [],
   "source": [
    "import pandas as pd\n",
    "import pycanon\n",
    "from pycanon import report, anonymity"
   ]
  },
  {
   "cell_type": "markdown",
   "id": "5ab8275a",
   "metadata": {},
   "source": [
    "### K=2"
   ]
  },
  {
   "cell_type": "code",
   "execution_count": 2,
   "id": "92ba4df2",
   "metadata": {},
   "outputs": [],
   "source": [
    "file_name = \"/home/carmen/Escritorio/TFM/ml_anonymization/datasets/bank_dataset/csv/bank_k_2-anonymized.csv\"\n",
    "df = pd.read_csv(file_name, sep=\";\")"
   ]
  },
  {
   "cell_type": "code",
   "execution_count": 3,
   "id": "b2b746b4",
   "metadata": {
    "scrolled": true
   },
   "outputs": [
    {
     "data": {
      "text/plain": [
       "age               0\n",
       "job               0\n",
       "marital           0\n",
       "education         0\n",
       "default           0\n",
       "housing           0\n",
       "loan              0\n",
       "contact           0\n",
       "month             0\n",
       "day_of_week       0\n",
       "emp.var.rate      0\n",
       "cons.price.idx    0\n",
       "cons.conf.idx     0\n",
       "euribor3m         0\n",
       "y                 0\n",
       "dtype: int64"
      ]
     },
     "execution_count": 3,
     "metadata": {},
     "output_type": "execute_result"
    }
   ],
   "source": [
    "df.isnull().sum()"
   ]
  },
  {
   "cell_type": "code",
   "execution_count": 4,
   "id": "2ff5ff5f",
   "metadata": {},
   "outputs": [
    {
     "name": "stdout",
     "output_type": "stream",
     "text": [
      "        age       job      marital          education  default housing loan  \\\n",
      "0  [20, 40[  Employed  Not married              Basic       no      no   no   \n",
      "1         *         *            *                  *        *       *    *   \n",
      "2  [20, 40[  Employed  Not married  University Degree       no     yes   no   \n",
      "3  [40, 60[  Employed      Married              Basic  unknown     yes   no   \n",
      "4  [40, 60[  Employed      Married              Basic       no     yes   no   \n",
      "\n",
      "     contact month day_of_week emp.var.rate cons.price.idx cons.conf.idx  \\\n",
      "0  telephone   jul           1          1.4         93.918         -42.7   \n",
      "1          *     *           *            *              *             *   \n",
      "2   cellular   jul           2          1.4         93.918         -42.7   \n",
      "3  telephone   jun           2          1.4         94.465         -41.8   \n",
      "4   cellular   nov           1         -0.1           93.2           -42   \n",
      "\n",
      "  euribor3m   y  \n",
      "0         5  no  \n",
      "1         *  no  \n",
      "2         5  no  \n",
      "3         5  no  \n",
      "4         4  no  \n",
      "<class 'pandas.core.frame.DataFrame'>\n",
      "RangeIndex: 41188 entries, 0 to 41187\n",
      "Data columns (total 15 columns):\n",
      " #   Column          Non-Null Count  Dtype \n",
      "---  ------          --------------  ----- \n",
      " 0   age             41188 non-null  object\n",
      " 1   job             41188 non-null  object\n",
      " 2   marital         41188 non-null  object\n",
      " 3   education       41188 non-null  object\n",
      " 4   default         41188 non-null  object\n",
      " 5   housing         41188 non-null  object\n",
      " 6   loan            41188 non-null  object\n",
      " 7   contact         41188 non-null  object\n",
      " 8   month           41188 non-null  object\n",
      " 9   day_of_week     41188 non-null  object\n",
      " 10  emp.var.rate    41188 non-null  object\n",
      " 11  cons.price.idx  41188 non-null  object\n",
      " 12  cons.conf.idx   41188 non-null  object\n",
      " 13  euribor3m       41188 non-null  object\n",
      " 14  y               41188 non-null  object\n",
      "dtypes: object(15)\n",
      "memory usage: 4.7+ MB\n",
      "None\n",
      "             age       job  marital education default housing   loan  \\\n",
      "count      41188     41188    41188     41188   41188   41188  41188   \n",
      "unique         6         6        4         7       3       4      4   \n",
      "top     [20, 40[  Employed  Married     Basic      no     yes     no   \n",
      "freq       20842     34211    22848     11548   29533   19600  31464   \n",
      "\n",
      "         contact  month day_of_week emp.var.rate cons.price.idx cons.conf.idx  \\\n",
      "count      41188  41188       41188        41188          41188         41188   \n",
      "unique         3     11           3           10             26            26   \n",
      "top     cellular    may           1          1.4         93.994         -36.4   \n",
      "freq       23717  12991       22558        15385           7494          7494   \n",
      "\n",
      "       euribor3m      y  \n",
      "count      41188  41188  \n",
      "unique         8      2  \n",
      "top            5     no  \n",
      "freq       22905  36548  \n",
      "(41188, 15)\n"
     ]
    }
   ],
   "source": [
    "print(df.head())\n",
    "print(df.info())\n",
    "print(df.describe())\n",
    "print(df.shape)"
   ]
  },
  {
   "cell_type": "code",
   "execution_count": 5,
   "id": "1f9796eb",
   "metadata": {},
   "outputs": [],
   "source": [
    "q_i=[\"age\",\"job\",\"marital\",\"education\",\"default\",\"housing\",\"loan\",\"contact\",\"month\",\"day_of_week\",\"emp.var.rate\",\"cons.price.idx\",\"cons.conf.idx\",\"euribor3m\"]\n",
    "a_s = [\"y\"]\n",
    "\n",
    "def delete_rows(file_name, quasi_ident, fillna=True):\n",
    "    \"\"\"Delete the rows of the given file in which all QIs are set to *.\"\"\"\n",
    "    df = pd.read_csv(file_name, sep = \";\")\n",
    "    df_qi = df[quasi_ident]\n",
    "    tmp = df_qi[df_qi == [\"*\"] * len(quasi_ident)]\n",
    "    tmp.dropna(inplace=True)\n",
    "    df_new=df.drop(tmp.index.values, axis = 0).reset_index()\n",
    "    print(df_new)\n",
    "    return df_new"
   ]
  },
  {
   "cell_type": "code",
   "execution_count": 6,
   "id": "9cb211be",
   "metadata": {},
   "outputs": [
    {
     "name": "stdout",
     "output_type": "stream",
     "text": [
      "       index       age       job      marital          education  default  \\\n",
      "0          0  [20, 40[  Employed  Not married              Basic       no   \n",
      "1          2  [20, 40[  Employed  Not married  University Degree       no   \n",
      "2          3  [40, 60[  Employed      Married              Basic  unknown   \n",
      "3          4  [40, 60[  Employed      Married              Basic       no   \n",
      "4          5  [20, 40[  Employed  Not married        HIgh School       no   \n",
      "...      ...       ...       ...          ...                ...      ...   \n",
      "37187  41183  [20, 40[  Employed  Not married              Basic       no   \n",
      "37188  41184  [40, 60[  Employed      Married        HIgh School       no   \n",
      "37189  41185  [40, 60[  Employed      Married  University Degree       no   \n",
      "37190  41186  [20, 40[  Employed  Not married  University Degree       no   \n",
      "37191  41187  [40, 60[  Employed      Married  University Degree       no   \n",
      "\n",
      "      housing loan    contact month day_of_week emp.var.rate cons.price.idx  \\\n",
      "0          no   no  telephone   jul           1          1.4         93.918   \n",
      "1         yes   no   cellular   jul           2          1.4         93.918   \n",
      "2         yes   no  telephone   jun           2          1.4         94.465   \n",
      "3         yes   no   cellular   nov           1         -0.1           93.2   \n",
      "4         yes  yes   cellular   may           2         -1.8         92.893   \n",
      "...       ...  ...        ...   ...         ...          ...            ...   \n",
      "37187     yes   no  telephone   jun           1          1.4         94.465   \n",
      "37188      no   no   cellular   aug           1          1.4         93.444   \n",
      "37189     yes   no   cellular   nov           2         -0.1           93.2   \n",
      "37190      no   no  telephone   jun           2          1.4         94.465   \n",
      "37191     yes   no   cellular   nov           1         -3.4         92.649   \n",
      "\n",
      "      cons.conf.idx euribor3m    y  \n",
      "0             -42.7         5   no  \n",
      "1             -42.7         5   no  \n",
      "2             -41.8         5   no  \n",
      "3               -42         4   no  \n",
      "4             -46.2       1.5   no  \n",
      "...             ...       ...  ...  \n",
      "37187         -41.8         5   no  \n",
      "37188         -36.1         5   no  \n",
      "37189           -42         4   no  \n",
      "37190         -41.8         5   no  \n",
      "37191         -30.1       0.5  yes  \n",
      "\n",
      "[37192 rows x 16 columns]\n"
     ]
    }
   ],
   "source": [
    "new_dataset = delete_rows(file_name,q_i)"
   ]
  },
  {
   "cell_type": "code",
   "execution_count": null,
   "id": "96dcb204",
   "metadata": {},
   "outputs": [],
   "source": [
    "new_dataset"
   ]
  },
  {
   "cell_type": "code",
   "execution_count": null,
   "id": "85800df7",
   "metadata": {},
   "outputs": [],
   "source": [
    "t = pycanon.anonymity.t_closeness(new_dataset, q_i, a_s)\n",
    "print(t)"
   ]
  },
  {
   "cell_type": "markdown",
   "id": "8ae1a556",
   "metadata": {},
   "source": [
    "The \"already exisiting\" value for t with the 2-anonymity dataset is **0.56**. Therefore, when choosing the t value for anonymizating the dataset, it has to be bellow this value to be more restrictive and applying more anonymization. "
   ]
  },
  {
   "cell_type": "markdown",
   "id": "30344f4b",
   "metadata": {},
   "source": [
    "We will stablish the t value of t=0.5 when generating the anonymized dataset of k=2."
   ]
  }
 ],
 "metadata": {
  "kernelspec": {
   "display_name": "Python 3 (ipykernel)",
   "language": "python",
   "name": "python3"
  },
  "language_info": {
   "codemirror_mode": {
    "name": "ipython",
    "version": 3
   },
   "file_extension": ".py",
   "mimetype": "text/x-python",
   "name": "python",
   "nbconvert_exporter": "python",
   "pygments_lexer": "ipython3",
   "version": "3.10.10"
  }
 },
 "nbformat": 4,
 "nbformat_minor": 5
}
