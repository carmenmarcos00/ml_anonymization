{
 "cells": [
  {
   "cell_type": "code",
   "execution_count": 32,
   "id": "6091694c",
   "metadata": {},
   "outputs": [],
   "source": [
    "import pandas as pd\n",
    "import pycanon\n",
    "from pycanon import report, anonymity\n",
    "\n",
    "file_name = \"/home/carmen/Escritorio/TFM/ml_anonymization/datasets/diabetes_dataset/csv/diabetes_k_2-anonymized.csv\"\n",
    "df = pd.read_csv(file_name, sep=\",\")\n",
    "\n",
    "q_i=[\"Age\",\"Gender\",\"Polyuria\",\"Polydipsia\",\"sudden weight loss\",\"weakness\",\"Polyphagia\",\"Genital thrush\",\"visual blurring\",\"Itching\",\"Irritability\",\"delayed healing\",\"partial paresis\",\"muscle stiffness\",\"Alopecia\",\"Obesity\"]\n",
    "a_s = [\"class\"]\n",
    "\n",
    "def delete_rows(file_name, quasi_ident, fillna=True):\n",
    "    \"\"\"Delete the rows of the given file in which all QIs are set to *.\"\"\"\n",
    "    df = pd.read_csv(file_name, sep = \",\")\n",
    "    df_qi = df[quasi_ident]\n",
    "    tmp = df_qi[df_qi == [\"*\"] * len(quasi_ident)]\n",
    "    tmp.dropna(inplace=True)\n",
    "    df_new=df.drop(tmp.index.values, axis = 0).reset_index()\n",
    "    print(df_new)\n",
    "    return df_new"
   ]
  },
  {
   "cell_type": "code",
   "execution_count": 33,
   "id": "5a477375",
   "metadata": {},
   "outputs": [
    {
     "name": "stdout",
     "output_type": "stream",
     "text": [
      "     index       Age  Gender Polyuria Polydipsia sudden weight loss weakness  \\\n",
      "0        0  [40, 80[    Male       No         No                 No      Yes   \n",
      "1        1   [0, 40[    Male       No         No                Yes       No   \n",
      "2        2  [40, 80[    Male       No         No                Yes       No   \n",
      "3        4  [40, 80[    Male      Yes        Yes                Yes      Yes   \n",
      "4        5   [0, 40[    Male       No         No                 No       No   \n",
      "..     ...       ...     ...      ...        ...                ...      ...   \n",
      "393    512  [40, 80[  Female      Yes        Yes                 No      Yes   \n",
      "394    513   [0, 40[    Male       No         No                 No       No   \n",
      "395    515  [40, 80[  Female      Yes        Yes                Yes       No   \n",
      "396    518  [40, 80[    Male       No        Yes                Yes      Yes   \n",
      "397    519   [0, 40[  Female      Yes         No                Yes      Yes   \n",
      "\n",
      "    Polyphagia Genital thrush visual blurring Itching Irritability  \\\n",
      "0           No            Yes              No     Yes           No   \n",
      "1           No             No              No      No           No   \n",
      "2           No             No              No      No           No   \n",
      "3          Yes             No             Yes     Yes           No   \n",
      "4           No             No              No      No           No   \n",
      "..         ...            ...             ...     ...          ...   \n",
      "393        Yes             No             Yes     Yes           No   \n",
      "394         No             No              No      No           No   \n",
      "395        Yes             No              No     Yes           No   \n",
      "396         No             No             Yes     Yes           No   \n",
      "397        Yes             No              No      No           No   \n",
      "\n",
      "    delayed healing partial paresis muscle stiffness Alopecia Obesity  \\\n",
      "0               Yes              No               No      Yes      No   \n",
      "1                No              No               No       No      No   \n",
      "2                No              No               No       No     Yes   \n",
      "3               Yes             Yes              Yes       No      No   \n",
      "4                No              No               No       No      No   \n",
      "..              ...             ...              ...      ...     ...   \n",
      "393             Yes             Yes               No       No      No   \n",
      "394              No              No               No       No      No   \n",
      "395             Yes             Yes               No       No      No   \n",
      "396              No             Yes              Yes       No      No   \n",
      "397             Yes              No               No       No      No   \n",
      "\n",
      "        class  \n",
      "0    Negative  \n",
      "1    Negative  \n",
      "2    Negative  \n",
      "3    Positive  \n",
      "4    Negative  \n",
      "..        ...  \n",
      "393  Positive  \n",
      "394  Negative  \n",
      "395  Positive  \n",
      "396  Negative  \n",
      "397  Positive  \n",
      "\n",
      "[398 rows x 18 columns]\n",
      "0.5603015075376885\n"
     ]
    }
   ],
   "source": [
    "new_dataset = delete_rows(file_name,q_i)\n",
    "#print(new_dataset)\n",
    "\n",
    "t = pycanon.anonymity.t_closeness(new_dataset, q_i, a_s)\n",
    "print(t)"
   ]
  }
 ],
 "metadata": {
  "kernelspec": {
   "display_name": "Python 3 (ipykernel)",
   "language": "python",
   "name": "python3"
  },
  "language_info": {
   "codemirror_mode": {
    "name": "ipython",
    "version": 3
   },
   "file_extension": ".py",
   "mimetype": "text/x-python",
   "name": "python",
   "nbconvert_exporter": "python",
   "pygments_lexer": "ipython3",
   "version": "3.10.10"
  }
 },
 "nbformat": 4,
 "nbformat_minor": 5
}
